{
 "cells": [
  {
   "cell_type": "code",
   "execution_count": null,
   "metadata": {},
   "outputs": [],
   "source": [
    "import numpy as np\n",
    "import pandas as pd\n",
    "import tensorflow as tf\n",
    "import os\n",
    "np.random.seed(1234)\n",
    "\n",
    "from keras.callbacks import EarlyStopping, ModelCheckpoint\n",
    "# from keras.utils.vis_utils import plot_model\n",
    "# from scikeras.wrappers import KerasClassifier, KerasRegressor\n",
    "from sklearn.model_selection import RandomizedSearchCV,KFold"
   ]
  },
  {
   "cell_type": "markdown",
   "metadata": {},
   "source": [
    "## File processing"
   ]
  },
  {
   "cell_type": "code",
   "execution_count": null,
   "metadata": {},
   "outputs": [],
   "source": [
    "directory = \"../CNN/Dataset for CA1 part A/\""
   ]
  },
  {
   "cell_type": "code",
   "execution_count": null,
   "metadata": {},
   "outputs": [],
   "source": [
    "BATCH_SIZE = 32\n",
    "IMG_SIZE = (224, 224)\n",
    "# Load train data\n",
    "train_dataset = tf.keras.utils.image_dataset_from_directory(directory=f'{directory}/train',\n",
    "                                                            shuffle=True,\n",
    "                                                            batch_size=BATCH_SIZE,\n",
    "                                                            image_size=IMG_SIZE)\n",
    "\n",
    "# Load validation data\n",
    "validation_dataset = tf.keras.utils.image_dataset_from_directory(directory=f'{directory}/validation',\n",
    "                                                                 shuffle=True,    \n",
    "                                                                 batch_size=BATCH_SIZE,\n",
    "                                                                 image_size=IMG_SIZE)\n",
    "\n",
    "# Load test data\n",
    "test_dataset = tf.keras.utils.image_dataset_from_directory(directory=f'{directory}/test',\n",
    "                                                                 shuffle=True,    \n",
    "                                                                 batch_size=BATCH_SIZE,\n",
    "                                                                 image_size=IMG_SIZE)                                                                 "
   ]
  },
  {
   "cell_type": "code",
   "execution_count": null,
   "metadata": {},
   "outputs": [],
   "source": [
    "# List vegetable classes\n",
    "class_names = train_dataset.class_names\n",
    "class_names"
   ]
  },
  {
   "cell_type": "code",
   "execution_count": null,
   "metadata": {},
   "outputs": [],
   "source": [
    "# Print total no. of training batches\n",
    "print('Number of training batches: %d' % tf.data.experimental.cardinality(train_dataset).numpy())"
   ]
  },
  {
   "cell_type": "markdown",
   "metadata": {},
   "source": [
    "## EDA"
   ]
  },
  {
   "cell_type": "code",
   "execution_count": null,
   "metadata": {},
   "outputs": [],
   "source": [
    "# Split datasets \n",
    "X_train = []\n",
    "y_train = []\n",
    "\n",
    "for images, labels in train_dataset:\n",
    "    X_train.extend(images.numpy())\n",
    "    y_train.extend(labels.numpy())\n",
    "\n",
    "X_train = np.array(X_train)\n",
    "y_train = np.array(y_train)\n",
    "\n",
    "X_test = []\n",
    "y_test = []\n",
    "\n",
    "for images, labels in test_dataset:\n",
    "    X_test.extend(images.numpy())\n",
    "    y_test.extend(labels.numpy())\n",
    "\n",
    "X_test = np.array(X_test)\n",
    "y_test = np.array(y_test)\n"
   ]
  },
  {
   "cell_type": "code",
   "execution_count": null,
   "metadata": {},
   "outputs": [],
   "source": [
    "import matplotlib.pyplot as plt\n",
    "fig, ax = plt.subplots(3, 5, figsize=(20, 10))\n",
    "\n",
    "for idx, subplot in enumerate(ax.ravel()):\n",
    "    avg_image = np.mean(X_train[np.squeeze(y_train == idx)], axis=0) / 255\n",
    "    subplot.imshow(avg_image, cmap=\"Greys\")\n",
    "    subplot.set_title(f\"{class_names[idx]}\")\n",
    "    subplot.axis(\"off\")"
   ]
  },
  {
   "cell_type": "code",
   "execution_count": null,
   "metadata": {},
   "outputs": [],
   "source": [
    "# Find value counts\n",
    "labels, counts = np.unique(y_train, return_counts=True)\n",
    "for label, count in zip(labels, counts):\n",
    "    print(f\"{class_names[label]}: {count}\")"
   ]
  },
  {
   "cell_type": "code",
   "execution_count": null,
   "metadata": {},
   "outputs": [],
   "source": [
    "# Plot value counts\n",
    "plt.barh(labels, counts, tick_label=list(class_names))\n",
    "plt.show()\n"
   ]
  },
  {
   "cell_type": "markdown",
   "metadata": {},
   "source": [
    "Radishes, Potatoes, Carrots, Capsicums, Cabbages, Papayas and Bottle Gourds are especially undersampled, perform augmentation to get more of such images"
   ]
  },
  {
   "cell_type": "code",
   "execution_count": null,
   "metadata": {},
   "outputs": [],
   "source": [
    "# Map iamge to label\n",
    "train_dict = {tf.Tensor.ref(img): label for img, label in train_dataset.unbatch()}"
   ]
  },
  {
   "cell_type": "code",
   "execution_count": null,
   "metadata": {},
   "outputs": [],
   "source": [
    "# Subset undersampled classes\n",
    "radishes = [img for img, label in train_dict.items() if label == 13]\n",
    "radish_labels = [label for img, label in train_dict.items() if label == 13]\n",
    "\n",
    "\n",
    "potatoes = [img for img, label in train_dict.items() if label == 11]\n",
    "potato_labels = [label for img, label in train_dict.items() if label == 11]\n",
    "carrots = [img for img, label in train_dict.items() if label == 7]\n",
    "carrot_labels = [label for img, label in train_dict.items() if label == 7]\n",
    "capsicums = [img for img, label in train_dict.items() if label == 6]\n",
    "capsicum_labels = [label for img, label in train_dict.items() if label == 6]\n",
    "cabbages = [img for img, label in train_dict.items() if label == 5]\n",
    "cabbage_labels = [label for img, label in train_dict.items() if label == 5]\n",
    "papayas = [img for img, label in train_dict.items() if label == 10]\n",
    "papaya_labels = [label for img, label in train_dict.items() if label == 10]\n",
    "bottle_gourds = [img for img, label in train_dict.items() if label == 2]\n",
    "bottle_gourd_labels = [label for img, label in train_dict.items() if label == 2]"
   ]
  },
  {
   "cell_type": "code",
   "execution_count": null,
   "metadata": {},
   "outputs": [],
   "source": [
    "radishes = [radish.deref() for radish in radishes]\n",
    "potatoes = [potato.deref() for potato in potatoes]\n",
    "carrots = [carrot.deref() for carrot in carrots]\n",
    "capsicums = [capsicum.deref() for capsicum in capsicums]\n",
    "cabbages = [cabbage.deref() for cabbage in cabbages]\n",
    "papayas = [papaya.deref() for papaya in papayas]\n",
    "bottle_gourds = [bottle_gourd.deref() for bottle_gourd in bottle_gourds]"
   ]
  },
  {
   "cell_type": "code",
   "execution_count": null,
   "metadata": {},
   "outputs": [],
   "source": [
    "undersampled_vegs = np.concatenate((radishes, potatoes, carrots, capsicums, cabbages, papayas, bottle_gourds), axis=0)\n",
    "undersampled_labels = np.concatenate((radish_labels, potato_labels, carrot_labels, capsicum_labels, cabbage_labels, papaya_labels, bottle_gourd_labels))\n",
    "def data_augmentation(data):\n",
    "    imageArr = []\n",
    "    for images in data:\n",
    "        image = tf.image.random_flip_left_right(images)\n",
    "        image = tf.image.random_crop(\n",
    "            image, size=(224,224,3)\n",
    "        )\n",
    "        imageArr.append(tf.reshape(image, (224, 224, 3)))\n",
    "    return np.array(imageArr)\n",
    "veg_train_aug = np.copy(undersampled_vegs)\n",
    "veg_train_aug = data_augmentation(veg_train_aug)"
   ]
  },
  {
   "cell_type": "code",
   "execution_count": null,
   "metadata": {},
   "outputs": [],
   "source": [
    "X_train_aug = np.concatenate((X_train , veg_train_aug), axis=0)\n",
    "y_train_aug = np.concatenate((y_train, undersampled_labels), axis=0)"
   ]
  },
  {
   "cell_type": "code",
   "execution_count": null,
   "metadata": {},
   "outputs": [],
   "source": [
    "with tf.device('/device:CPU:0'):\n",
    "    train_ds = tf.data.Dataset.from_tensor_slices((X_train_aug, y_train_aug))\n",
    "    train_ds = train_ds.shuffle(buffer_size=len(X_train_aug))  # Shuffle the data\n",
    "    train_ds = train_ds.batch(32)"
   ]
  },
  {
   "cell_type": "code",
   "execution_count": null,
   "metadata": {},
   "outputs": [],
   "source": [
    "grayscale_train_ds = train_ds.map(lambda x, y: (tf.image.rgb_to_grayscale(x), y))  \n",
    "train_ds = grayscale_train_ds.map(lambda x, y: (tf.image.resize(x, [31, 31]), y))\n",
    "grayscale_val_ds = validation_dataset.map(lambda x, y: (tf.image.rgb_to_grayscale(x), y))\n",
    "grayscale_test_ds = test_dataset.map(lambda x, y: (tf.image.rgb_to_grayscale(x), y))\n",
    "\n",
    "val_ds_31 = grayscale_val_ds.map(lambda x, y: (tf.image.resize(x, [31, 31]), y))\n",
    "test_ds_31 = grayscale_test_ds.map(lambda x, y: (tf.image.resize(x, [31, 31]), y))"
   ]
  },
  {
   "cell_type": "markdown",
   "metadata": {},
   "source": [
    "## Model Improvements"
   ]
  },
  {
   "cell_type": "code",
   "execution_count": null,
   "metadata": {},
   "outputs": [],
   "source": [
    "epochs = 50"
   ]
  },
  {
   "cell_type": "markdown",
   "metadata": {},
   "source": [
    "Optimising batchsize"
   ]
  },
  {
   "cell_type": "code",
   "execution_count": null,
   "metadata": {},
   "outputs": [],
   "source": [
    "# Run parametric experiment to tune dropout percentage\n",
    "def createAndTrain_model_BatchSize(batchsize):\n",
    "    model = tf.keras.models.Sequential()\n",
    "    model.add(tf.keras.layers.Conv2D(64, (7, 7), input_shape=(31, 31, 1), activation='relu'))\n",
    "    model.add(tf.keras.layers.BatchNormalization())\n",
    "    model.add(tf.keras.layers.MaxPool2D(pool_size=(3, 3)))\n",
    "    model.add(tf.keras.layers.Dropout(0.3))\n",
    "    model.add(tf.keras.layers.Conv2D(64, (5, 5), activation='relu'))\n",
    "    model.add(tf.keras.layers.BatchNormalization())\n",
    "    model.add(tf.keras.layers.MaxPool2D(pool_size=(2, 2)))\n",
    "    model.add(tf.keras.layers.Dropout(0.3))\n",
    "    model.add(tf.keras.layers.Flatten())\n",
    "    model.add(tf.keras.layers.Dense(128, activation='relu'))\n",
    "    model.add(tf.keras.layers.Dense(len(class_names), activation='softmax'))\n",
    "\n",
    "    model.compile(loss='sparse_categorical_crossentropy', optimizer='adam', metrics=['accuracy'])\n",
    "\n",
    "    history = model.fit(train_ds, \n",
    "                        validation_data=val_ds_31, \n",
    "                        epochs=epochs, \n",
    "                        batch_size=batchsize, \n",
    "                        shuffle=True,\n",
    "                        callbacks=[EarlyStopping(monitor='val_loss', patience=5, verbose=1, restore_best_weights=True)])\n",
    "\n",
    "    # Evaluate model on unseen data\n",
    "    scores = model.evaluate(test_ds_31)\n",
    "    testError = 100-scores[1]*100\n",
    "\n",
    "    return history, scores[1], testError"
   ]
  },
  {
   "cell_type": "code",
   "execution_count": null,
   "metadata": {},
   "outputs": [],
   "source": [
    "# range of batch sizes\n",
    "batchsizes = 2**np.arange(4, 9)\n",
    "\n",
    "# initialize output results matrices\n",
    "accuracyResultsTrain = np.zeros((epochs, len(batchsizes)))\n",
    "accuracyResultsVal = np.zeros((epochs, len(batchsizes)))\n",
    "accuracyResultsTest  = np.zeros((epochs, len(batchsizes)))\n",
    "\n",
    "# loop over batch sizes\n",
    "for bi in range(len(batchsizes)):\n",
    "    history, score, testError = createAndTrain_model_BatchSize(batchsizes[bi])\n",
    "\n",
    "    # store results\n",
    "    accuracyResultsTrain[:,bi] = history.history['accuracy']\n",
    "    accuracyResultsVal[:,bi] = history.history['val_accuracy']\n",
    "    accuracyResultsTest[:,bi] = score"
   ]
  },
  {
   "cell_type": "code",
   "execution_count": null,
   "metadata": {},
   "outputs": [],
   "source": [
    "# plot accuracy results\n",
    "fig,ax = plt.subplots(1,3,figsize=(17,7))\n",
    "\n",
    "ax[0].plot(accuracyResultsTrain)\n",
    "ax[0].set_title('Train accuracy')\n",
    "ax[1].plot(accuracyResultsVal)\n",
    "ax[1].set_title('Validation accuracy')\n",
    "ax[2].plot(accuracyResultsTest)\n",
    "ax[2].set_title('Test accuracy')\n",
    "\n",
    "# common features\n",
    "for i in range(3):\n",
    "  ax[i].legend(batchsizes)\n",
    "  ax[i].set_xlabel('Epoch')\n",
    "  ax[i].set_ylabel('Accuracy (%)')\n",
    "  ax[i].grid()\n",
    "\n",
    "plt.show()"
   ]
  },
  {
   "cell_type": "markdown",
   "metadata": {},
   "source": [
    "Tuning dropout"
   ]
  },
  {
   "cell_type": "code",
   "execution_count": null,
   "metadata": {},
   "outputs": [],
   "source": [
    "# Run parametric experiment to tune dropout percentage\n",
    "def createAndTrain_model_Dropout(dropout):\n",
    "    model = tf.keras.models.Sequential()\n",
    "    model.add(tf.keras.layers.Conv2D(64, (7, 7), input_shape=(31, 31, 1), activation='relu'))\n",
    "    model.add(tf.keras.layers.BatchNormalization())\n",
    "    model.add(tf.keras.layers.MaxPool2D(pool_size=(3, 3)))\n",
    "    model.add(tf.keras.layers.Dropout(dropout))\n",
    "    model.add(tf.keras.layers.Conv2D(64, (5, 5), activation='relu'))\n",
    "    model.add(tf.keras.layers.BatchNormalization())\n",
    "    model.add(tf.keras.layers.MaxPool2D(pool_size=(2, 2)))\n",
    "    model.add(tf.keras.layers.Dropout(dropout))\n",
    "    model.add(tf.keras.layers.Flatten())\n",
    "    model.add(tf.keras.layers.Dense(128, activation='relu'))\n",
    "    model.add(tf.keras.layers.Dense(len(class_names), activation='softmax'))\n",
    "\n",
    "    model.compile(loss='sparse_categorical_crossentropy', optimizer='adam', metrics=['accuracy'])\n",
    "\n",
    "    history = model.fit(train_ds, \n",
    "                        validation_data=val_ds_31, \n",
    "                        epochs=epochs, \n",
    "                        batch_size=16,\n",
    "                        shuffle=True,\n",
    "                        callbacks=[EarlyStopping(monitor='val_loss', patience=5, verbose=1, restore_best_weights=True)])\n",
    "\n",
    "    # Evaluate model on unseen data\n",
    "    scores = model.evaluate(test_ds_31)\n",
    "    testError = 100-scores[1]*100\n",
    "\n",
    "    return history, scores, testError"
   ]
  },
  {
   "cell_type": "code",
   "execution_count": null,
   "metadata": {},
   "outputs": [],
   "source": [
    "# specify number of hidden units\n",
    "dropout_percentages = np.arange(0, 1, 0.1)\n",
    "\n",
    "# initialize results matrix\n",
    "results = np.zeros((len(dropout_percentages),4))\n",
    "\n",
    "for i,npercent in enumerate(dropout_percentages):\n",
    "  history, scores, testError = createAndTrain_model_Dropout(int(npercent))\n",
    "  results[i,:] = [history.history['accuracy'][-1], history.history['val_accuracy'][-1], scores[1], testError ]\n"
   ]
  },
  {
   "cell_type": "code",
   "execution_count": null,
   "metadata": {},
   "outputs": [],
   "source": [
    "# Plot parametric experiment results\n",
    "fig,ax = plt.subplots(1,2,figsize=(16,5))\n",
    "\n",
    "ax[0].plot(dropout_percentages,results[:,:2],'s-')\n",
    "ax[0].set_xlabel('Dropout percentage')\n",
    "ax[0].set_ylabel('Accuracy (%)')\n",
    "ax[0].set_title('Final model accuracy')\n",
    "ax[0].legend(['Train','Val'])\n",
    "\n",
    "ax[1].plot(dropout_percentages,results[:,2],'s-')\n",
    "ax[1].set_xlabel('Dropout percentage')\n",
    "ax[1].set_ylabel('Accuracy (%)')\n",
    "ax[1].set_title('Final model scoring metrics')\n",
    "ax[1].legend(['Test_Accuracy'])\n",
    "# ax[1].set_ylim([0.87, 0.9])\n",
    "\n",
    "plt.show()"
   ]
  },
  {
   "cell_type": "markdown",
   "metadata": {},
   "source": [
    "Dropout of 0.3 seems to work best on the dataset"
   ]
  },
  {
   "cell_type": "markdown",
   "metadata": {},
   "source": [
    "Tuning number of hidden units"
   ]
  },
  {
   "cell_type": "code",
   "execution_count": null,
   "metadata": {},
   "outputs": [],
   "source": [
    "# Run parametric experiment to tune number of hidden units on Dense layer\n",
    "def createAndTrain_model_NumUnits(numUnits):\n",
    "    model = tf.keras.models.Sequential()\n",
    "    model.add(tf.keras.layers.Conv2D(64, (7, 7), input_shape=(31, 31, 1), activation='relu'))\n",
    "    model.add(tf.keras.layers.BatchNormalization())\n",
    "    model.add(tf.keras.layers.MaxPool2D(pool_size=(3, 3)))\n",
    "    model.add(tf.keras.layers.Dropout(0.2))\n",
    "    model.add(tf.keras.layers.Conv2D(64, (5, 5), activation='relu'))\n",
    "    model.add(tf.keras.layers.BatchNormalization())\n",
    "    model.add(tf.keras.layers.MaxPool2D(pool_size=(2, 2)))\n",
    "    model.add(tf.keras.layers.Dropout(0.2))\n",
    "    model.add(tf.keras.layers.Flatten())\n",
    "    model.add(tf.keras.layers.Dense(numUnits, activation='relu'))\n",
    "    model.add(tf.keras.layers.Dense(len(class_names), activation='softmax'))\n",
    "\n",
    "    model.compile(loss='sparse_categorical_crossentropy', optimizer='adam', metrics=['accuracy'])\n",
    "\n",
    "    history = model.fit(train_ds, \n",
    "                        validation_data=val_ds_31, \n",
    "                        epochs=epochs, \n",
    "                        batch_size=16, \n",
    "                        shuffle=True,\n",
    "                        callbacks=[EarlyStopping(monitor='val_loss', patience=5, verbose=1, restore_best_weights=True)])\n",
    "\n",
    "    # Evaluate model on unseen data\n",
    "    scores = model.evaluate(test_ds_31)\n",
    "    testError = 100-scores[1]*100\n",
    "\n",
    "    return history, scores, testError"
   ]
  },
  {
   "cell_type": "code",
   "execution_count": null,
   "metadata": {},
   "outputs": [],
   "source": [
    "# specify number of hidden units\n",
    "numberOfLinearUnits = np.round(np.linspace(5,500,20))\n",
    "\n",
    "# initialize results matrix\n",
    "results = np.zeros((len(numberOfLinearUnits),4))\n",
    "\n",
    "for i,nunits in enumerate(numberOfLinearUnits):\n",
    "  history, scores, testError = createAndTrain_model_NumUnits(int(nunits))\n",
    "  results[i,:] = [ history.history['accuracy'][-1], history.history['val_accuracy'][-1], scores[1], testError ]"
   ]
  },
  {
   "cell_type": "code",
   "execution_count": null,
   "metadata": {},
   "outputs": [],
   "source": [
    "# Plot parametric experiment results\n",
    "fig,ax = plt.subplots(1,2,figsize=(16,5))\n",
    "\n",
    "ax[0].plot(numberOfLinearUnits,results[:,:2],'s-')\n",
    "ax[0].set_xlabel('Number of units in final linear layer')\n",
    "ax[0].set_ylabel('Accuracy (%)')\n",
    "ax[0].set_title('Final model accuracy')\n",
    "ax[0].legend(['Train','Val'])\n",
    "\n",
    "ax[1].plot(numberOfLinearUnits,results[:,2],'s-')\n",
    "ax[1].set_xlabel('Number of units in final linear layer')\n",
    "ax[1].set_ylabel('Accuracy (%)')\n",
    "ax[1].set_title('Final model scoring metrics')\n",
    "ax[1].legend(['Test_Accuracy'])\n",
    "# ax[1].set_ylim([0.87, 0.9])\n",
    "\n",
    "plt.show()"
   ]
  },
  {
   "cell_type": "code",
   "execution_count": null,
   "metadata": {},
   "outputs": [],
   "source": [
    "numberOfLinearUnits"
   ]
  },
  {
   "cell_type": "markdown",
   "metadata": {},
   "source": [
    "Seems like 396 units in the hidden layer yields the greatest test accuracy (of around 87%)"
   ]
  },
  {
   "cell_type": "markdown",
   "metadata": {},
   "source": [
    "But, after playing around a little further with other hyperparameters, we get an even higher test accuracy of:"
   ]
  },
  {
   "cell_type": "code",
   "execution_count": null,
   "metadata": {},
   "outputs": [],
   "source": [
    "monitor_val_acc = EarlyStopping(monitor='val_loss', patience=5, verbose=1, restore_best_weights=True)\n",
    "model_checkpoint_31 = ModelCheckpoint('best_31_CNN_version2.h5', save_best_only = True)\n",
    "\n",
    "def make_finalModel():\n",
    "    model = tf.keras.models.Sequential()\n",
    "    model.add(tf.keras.layers.Conv2D(64, (7, 7), input_shape=(31, 31, 1), activation='relu'))\n",
    "    model.add(tf.keras.layers.BatchNormalization(momentum=0.1))\n",
    "    model.add(tf.keras.layers.MaxPool2D(pool_size=(3, 3)))\n",
    "    model.add(tf.keras.layers.Dropout(0.3))\n",
    "    model.add(tf.keras.layers.Conv2D(64, (5, 5), activation='relu'))\n",
    "    model.add(tf.keras.layers.BatchNormalization(momentum=0.1))\n",
    "    model.add(tf.keras.layers.MaxPool2D(pool_size=(2, 2)))\n",
    "    model.add(tf.keras.layers.Dropout(0.3))\n",
    "    model.add(tf.keras.layers.Conv2D(64, (5, 5), activation='relu'))\n",
    "    model.add(tf.keras.layers.BatchNormalization(momentum=0.1))\n",
    "    model.add(tf.keras.layers.MaxPool2D(pool_size=(2, 2)))\n",
    "    model.add(tf.keras.layers.Dropout(0.3))\n",
    "    model.add(tf.keras.layers.Conv2D(64, (5, 5), activation='relu'))\n",
    "    model.add(tf.keras.layers.BatchNormalization(momentum=0.1))\n",
    "    model.add(tf.keras.layers.MaxPool2D(pool_size=(2, 2)))\n",
    "    model.add(tf.keras.layers.Dropout(0.3))\n",
    "    model.add(tf.keras.layers.Flatten())\n",
    "    model.add(tf.keras.layers.Dense(500, activation='relu'))\n",
    "    model.add(tf.keras.layers.Dense(len(class_names), activation='softmax'))\n",
    "\n",
    "    model.compile(loss='sparse_categorical_crossentropy', optimizer='adam', metrics=['accuracy'])\n",
    "    return model\n",
    "\n",
    "model = make_finalModel()\n",
    "history = model.fit(train_ds, \n",
    "                    validation_data=val_ds_31, \n",
    "                    epochs=epochs, \n",
    "                    batch_size=16, \n",
    "                    shuffle=True, \n",
    "                    callbacks=[monitor_val_acc, model_checkpoint_31])\n",
    "# Evaluate model on unseen data\n",
    "scores = model.evaluate(test_ds_31)\n",
    "testError = 100-scores[1]*100\n",
    "print(f'Model test accuracy on 31x31 images: {round(scores[1]*100,2)}%\\nModel test error on 31x31 images: {round(testError,2)}%')"
   ]
  },
  {
   "cell_type": "code",
   "execution_count": null,
   "metadata": {},
   "outputs": [],
   "source": [
    "final_model = make_finalModel()\n",
    "final_model.load_weights('best_31_CNN_version2.h5')\n",
    "# Re-evaluate the model\n",
    "loss, acc = final_model.evaluate(test_ds_31, verbose=2)\n",
    "print(\"Restored model, accuracy: {:5.2f}%\".format(100 * acc))"
   ]
  },
  {
   "cell_type": "code",
   "execution_count": null,
   "metadata": {},
   "outputs": [],
   "source": [
    "from sklearn.metrics import classification_report\n",
    "y_pred = final_model.predict(X_test)\n",
    "\n",
    "report = classification_report(\n",
    "    np.argmax(tf.keras.utils.to_categorical(y_test), axis=1), np.argmax(y_pred, axis=1), target_names=list(class_names)\n",
    ")"
   ]
  },
  {
   "cell_type": "code",
   "execution_count": null,
   "metadata": {},
   "outputs": [],
   "source": [
    "print(report)"
   ]
  },
  {
   "cell_type": "code",
   "execution_count": null,
   "metadata": {},
   "outputs": [],
   "source": [
    "import seaborn as sns\n",
    "plt.figure(1, figsize=(10, 10))\n",
    "plt.title(\"Confusion Matrix\")\n",
    "sns.heatmap(tf.math.confusion_matrix(\n",
    "    np.argmax(tf.keras.utils.to_categorical(y_test), axis=1),\n",
    "    np.argmax(y_pred, axis=1),\n",
    "    num_classes=15,\n",
    "    dtype=tf.dtypes.int32,\n",
    "    name=None\n",
    "), annot=True, fmt=\"\", cbar=False, cmap=\"YlOrRd\", yticklabels=list(class_names), xticklabels=list(class_names))\n",
    "plt.ylabel(\"True Label\")\n",
    "plt.xlabel(\"Predicted Label\")\n",
    "plt.show()"
   ]
  },
  {
   "cell_type": "code",
   "execution_count": null,
   "metadata": {},
   "outputs": [],
   "source": [
    "# summarize filter shapes\n",
    "for layer in final_model.layers:\n",
    "    # check for convolutional layer\n",
    "    if 'conv' not in layer.name:\n",
    "        continue\n",
    "    # get filter weights\n",
    "    filters, biases = layer.get_weights()\n",
    "    print(layer.name, filters.shape)"
   ]
  },
  {
   "cell_type": "code",
   "execution_count": null,
   "metadata": {},
   "outputs": [],
   "source": [
    "# plot first few filters\n",
    "n_filters, ix = 2, 1\n",
    "plt.suptitle(f'Feature map examples from convolution layers')\n",
    "for i in range(n_filters):\n",
    "    # get the filter\n",
    "    f = filters[:, :, :, i]\n",
    "    # plot each channel separately\n",
    "    for j in range(3):\n",
    "        # specify subplot and turn of axis\n",
    "        ax = plt.subplot(n_filters, 3, ix)\n",
    "        ax.set_xticks([])\n",
    "        ax.set_yticks([])\n",
    "        ax.set_title(f'Kernel {j+1}, Conv {i+1}')\n",
    "        # plot filter channel in grayscale\n",
    "        plt.imshow(f[:, :, j], cmap='gray')\n",
    "        ix += 1\n",
    "    # show the figure\n",
    "    plt.show()"
   ]
  }
 ],
 "metadata": {
  "kernelspec": {
   "display_name": "Python 3",
   "language": "python",
   "name": "python3"
  },
  "language_info": {
   "codemirror_mode": {
    "name": "ipython",
    "version": 3
   },
   "file_extension": ".py",
   "mimetype": "text/x-python",
   "name": "python",
   "nbconvert_exporter": "python",
   "pygments_lexer": "ipython3",
   "version": "3.10.13"
  }
 },
 "nbformat": 4,
 "nbformat_minor": 2
}
