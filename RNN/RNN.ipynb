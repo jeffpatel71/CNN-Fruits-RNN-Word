{
 "cells": [
  {
   "cell_type": "code",
   "execution_count": null,
   "metadata": {},
   "outputs": [],
   "source": [
    "import pandas as pd \n",
    "import numpy as np\n",
    "import matplotlib.pyplot as plt\n",
    "import tensorflow as tf\n",
    "from tensorflow import keras\n",
    "from tensorflow.keras import layers\n",
    "from tensorflow.keras.models import Sequential\n",
    "from tensorflow.keras.layers import LSTM, Dense\n",
    "from tensorflow.keras.layers import Dropout"
   ]
  },
  {
   "cell_type": "code",
   "execution_count": 1,
   "metadata": {},
   "outputs": [
    {
     "name": "stdout",
     "output_type": "stream",
     "text": [
      "                                              Quotes\n",
      "0  Embrace the beauty of every sunrise; it's a fr...\n",
      "1  Embrace challenges; they are the stepping ston...\n",
      "2  Embrace the rhythm of life and let it dance th...\n",
      "3  Embrace kindness, for it has the power to chan...\n",
      "4  Embrace the journey, for it leads to the desti...\n",
      "Data shape: (1000, 1)\n",
      "Missing values: Quotes    0\n",
      "dtype: int64\n",
      "                                                   Quotes\n",
      "count                                                1000\n",
      "unique                                                890\n",
      "top     Radiate acceptance, and find peace in embracin...\n",
      "freq                                                    5\n"
     ]
    }
   ],
   "source": [
    "data = pd.read_csv('train.csv')\n",
    "print(data.head())\n",
    "print('Data shape:', data.shape)\n",
    "print('Missing values:', data.isnull().sum())\n",
    "print(data.describe())"
   ]
  },
  {
   "cell_type": "code",
   "execution_count": null,
   "metadata": {},
   "outputs": [],
   "source": []
  }
 ],
 "metadata": {
  "kernelspec": {
   "display_name": "gpu_env",
   "language": "python",
   "name": "gpu_env"
  },
  "language_info": {
   "codemirror_mode": {
    "name": "ipython",
    "version": 3
   },
   "file_extension": ".py",
   "mimetype": "text/x-python",
   "name": "python",
   "nbconvert_exporter": "python",
   "pygments_lexer": "ipython3",
   "version": "3.10.13"
  }
 },
 "nbformat": 4,
 "nbformat_minor": 2
}
