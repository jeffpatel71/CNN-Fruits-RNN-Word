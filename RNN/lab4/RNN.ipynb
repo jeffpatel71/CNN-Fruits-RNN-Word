{
 "cells": [
  {
   "cell_type": "code",
   "execution_count": null,
   "metadata": {},
   "outputs": [],
   "source": [
    "import pandas as pd \n",
    "import numpy as np\n",
    "import matplotlib.pyplot as plt\n",
    "import tensorflow as tf\n",
    "from tensorflow import keras\n",
    "from tensorflow.keras import layers\n",
    "from tensorflow.keras.models import Sequential\n",
    "from tensorflow.keras.layers import LSTM, Dense\n",
    "from tensorflow.keras.layers import Dropout"
   ]
  },
  {
   "cell_type": "code",
   "execution_count": 1,
   "metadata": {},
   "outputs": [
    {
     "name": "stdout",
     "output_type": "stream",
     "text": [
      "                                                 quote\n",
      "0       The sun sets, painting the sky with warm hues.\n",
      "1       Birds chirp, announcing the dawn of a new day.\n",
      "2           Waves crash, a symphony of nature's power.\n",
      "3       Leaves rustle, whispering secrets to the wind.\n",
      "4        Raindrops dance, a gentle rhythm on the roof.\n",
      "..                                                 ...\n",
      "495  Gamma-ray bursts illuminate, the cosmos in bri...\n",
      "496  Solar flares surge, in fiery displays of solar...\n",
      "497  Interstellar dust dances, in the cosmic ballet...\n",
      "498  Cosmic strings resonate, with the symphony of ...\n",
      "499  Stellar remnants whisper, the tales of ancient...\n",
      "\n",
      "[500 rows x 1 columns]\n",
      "There are 500 quotes in this dataset.\n",
      "['The sun sets, painting the sky with warm hues.', 'Birds chirp, announcing the dawn of a new day.', \"Waves crash, a symphony of nature's power.\", 'Leaves rustle, whispering secrets to the wind.', 'Raindrops dance, a gentle rhythm on the roof.']\n"
     ]
    }
   ],
   "source": [
    "# Read data.\n",
    "import pandas as pd\n",
    "data = pd.read_csv('lab4 data.csv')\n",
    "print(data)\n",
    "\n",
    "# Convert data to a list.\n",
    "data = list(data.quote.values)\n",
    "print(f'There are {len(data)} quotes in this dataset.')\n",
    "print(data[:5]) # Print the first five quotes in your list. If you print everything ... it will blow up ..."
   ]
  }
 ],
 "metadata": {
  "kernelspec": {
   "display_name": "gpu_env",
   "language": "python",
   "name": "gpu_env"
  },
  "language_info": {
   "codemirror_mode": {
    "name": "ipython",
    "version": 3
   },
   "file_extension": ".py",
   "mimetype": "text/x-python",
   "name": "python",
   "nbconvert_exporter": "python",
   "pygments_lexer": "ipython3",
   "version": "3.10.13"
  }
 },
 "nbformat": 4,
 "nbformat_minor": 2
}
